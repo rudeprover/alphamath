{
  "cells": [
    {
      "cell_type": "markdown",
      "metadata": {},
      "source": "# \ud83e\uddea Mann-Kendall Test Preparation Exercises\n\nThis notebook walks you through foundational Python concepts that will help you implement the Mann-Kendall trend test.\n\n---"
    },
    {
      "cell_type": "markdown",
      "metadata": {},
      "source": "## Exercise 1: Basic Python Lists & Indexing\nExtract rainfall data from years 2010 to 2015."
    },
    {
      "cell_type": "code",
      "execution_count": null,
      "metadata": {},
      "outputs": [],
      "source": "rainfall = [800, 765, 812, 799, 820, 834, 760, 755, 790, 810, 850]\nyears = list(range(2008, 2019))\n\n# Extract values between 2010 and 2015\n# Your code here"
    },
    {
      "cell_type": "markdown",
      "metadata": {},
      "source": "## Exercise 2: Loops and Conditionals\nCount how many times discharge increased compared to the previous year."
    },
    {
      "cell_type": "code",
      "execution_count": null,
      "metadata": {},
      "outputs": [],
      "source": "discharge = [120, 124, 119, 130, 128, 132, 133]\n\n# Your code here"
    },
    {
      "cell_type": "markdown",
      "metadata": {},
      "source": "## Exercise 3: Functions\nDefine a function `count_increases(data)` that returns number of increases."
    },
    {
      "cell_type": "code",
      "execution_count": null,
      "metadata": {},
      "outputs": [],
      "source": "# Your code here\ndef count_increases(data):\n    pass"
    },
    {
      "cell_type": "markdown",
      "metadata": {},
      "source": "## Exercise 4: NumPy Arrays\nCalculate mean and standard deviation of rainfall data."
    },
    {
      "cell_type": "code",
      "execution_count": null,
      "metadata": {},
      "outputs": [],
      "source": "import numpy as np\n\nrainfall = [800, 765, 812, 799, 820, 834, 760, 755, 790, 810, 850]\n\n# Your code here"
    },
    {
      "cell_type": "markdown",
      "metadata": {},
      "source": "## Exercise 5: Pairwise Comparisons\nCount all increasing pairs `(i, j)` where `j > i` and `series[j] > series[i]`."
    },
    {
      "cell_type": "code",
      "execution_count": null,
      "metadata": {},
      "outputs": [],
      "source": "series = [120, 122, 121, 125, 123]\n\n# Your code here"
    },
    {
      "cell_type": "markdown",
      "metadata": {},
      "source": "## Exercise 6: Mann-Kendall Statistic (S Calculation)\nManually calculate the S statistic using sign comparison."
    },
    {
      "cell_type": "code",
      "execution_count": null,
      "metadata": {},
      "outputs": [],
      "source": "series = [120, 122, 121, 125, 123]\n\n# Your code here"
    },
    {
      "cell_type": "markdown",
      "metadata": {},
      "source": "## Exercise 7: Plotting with Matplotlib\nPlot rainfall time series to visually inspect trends."
    },
    {
      "cell_type": "code",
      "execution_count": null,
      "metadata": {},
      "outputs": [],
      "source": "import matplotlib.pyplot as plt\n\nyears = np.arange(2010, 2020)\nrainfall = [800, 765, 812, 799, 820, 834, 760, 755, 790, 810]\n\n# Your code here"
    },
    {
      "cell_type": "markdown",
      "metadata": {},
      "source": "## Final Exercise: Using pymannkendall\nPerform the Mann-Kendall test using the `pymannkendall` library."
    },
    {
      "cell_type": "code",
      "execution_count": null,
      "metadata": {},
      "outputs": [],
      "source": "# !pip install pymannkendall  # Uncomment if not installed\nimport pymannkendall as mk\n\ndata = [800, 765, 812, 799, 820, 834, 760, 755, 790, 810]\n\n# Your code here"
    }
  ],
  "metadata": {
    "kernelspec": {
      "display_name": "Python 3",
      "language": "python",
      "name": "python3"
    },
    "language_info": {
      "name": "python",
      "version": "3.x"
    }
  },
  "nbformat": 4,
  "nbformat_minor": 5
}