{
 "cells": [
  {
   "cell_type": "markdown",
   "id": "c999fd1e",
   "metadata": {},
   "source": [
    "# 📈 Advanced Mann-Kendall Trend Test in Python\n",
    "\n",
    "This notebook is designed to give a comprehensive understanding of the Mann-Kendall trend test through a real-world time series dataset. We will:\n",
    "\n",
    "- Load and explore a climate dataset\n",
    "- Understand hypothesis testing concepts\n",
    "- Perform pre-processing\n",
    "- Visualize trends\n",
    "- Compute the Mann-Kendall test manually and using libraries\n",
    "- Interpret results statistically\n",
    "\n",
    "---"
   ]
  },
  {
   "cell_type": "markdown",
   "id": "d6caea9b",
   "metadata": {},
   "source": [
    "## 🔍 Step 1: Load Dataset\n",
    "We'll use the `seaborn` climate-related dataset (`flights`) to simulate monthly or yearly time series data. You can replace this with rainfall, temperature, or discharge time series as needed."
   ]
  },
  {
   "cell_type": "code",
   "execution_count": 1,
   "id": "e5c3cf67",
   "metadata": {},
   "outputs": [
    {
     "data": {
      "text/html": [
       "<div>\n",
       "<style scoped>\n",
       "    .dataframe tbody tr th:only-of-type {\n",
       "        vertical-align: middle;\n",
       "    }\n",
       "\n",
       "    .dataframe tbody tr th {\n",
       "        vertical-align: top;\n",
       "    }\n",
       "\n",
       "    .dataframe thead th {\n",
       "        text-align: right;\n",
       "    }\n",
       "</style>\n",
       "<table border=\"1\" class=\"dataframe\">\n",
       "  <thead>\n",
       "    <tr style=\"text-align: right;\">\n",
       "      <th></th>\n",
       "      <th>year</th>\n",
       "      <th>month</th>\n",
       "      <th>passengers</th>\n",
       "    </tr>\n",
       "  </thead>\n",
       "  <tbody>\n",
       "    <tr>\n",
       "      <th>0</th>\n",
       "      <td>1949</td>\n",
       "      <td>Jan</td>\n",
       "      <td>112</td>\n",
       "    </tr>\n",
       "    <tr>\n",
       "      <th>1</th>\n",
       "      <td>1949</td>\n",
       "      <td>Feb</td>\n",
       "      <td>118</td>\n",
       "    </tr>\n",
       "    <tr>\n",
       "      <th>2</th>\n",
       "      <td>1949</td>\n",
       "      <td>Mar</td>\n",
       "      <td>132</td>\n",
       "    </tr>\n",
       "    <tr>\n",
       "      <th>3</th>\n",
       "      <td>1949</td>\n",
       "      <td>Apr</td>\n",
       "      <td>129</td>\n",
       "    </tr>\n",
       "    <tr>\n",
       "      <th>4</th>\n",
       "      <td>1949</td>\n",
       "      <td>May</td>\n",
       "      <td>121</td>\n",
       "    </tr>\n",
       "  </tbody>\n",
       "</table>\n",
       "</div>"
      ],
      "text/plain": [
       "   year month  passengers\n",
       "0  1949   Jan         112\n",
       "1  1949   Feb         118\n",
       "2  1949   Mar         132\n",
       "3  1949   Apr         129\n",
       "4  1949   May         121"
      ]
     },
     "execution_count": 1,
     "metadata": {},
     "output_type": "execute_result"
    }
   ],
   "source": [
    "import seaborn as sns\n",
    "import pandas as pd\n",
    "\n",
    "# Load dataset\n",
    "flights = sns.load_dataset('flights')\n",
    "flights.head()"
   ]
  },
  {
   "cell_type": "markdown",
   "id": "339004fb",
   "metadata": {},
   "source": [
    "## 🛠️ Step 2: Prepare Time Series\n",
    "Group by year and get the total number of passengers to simulate a trend over time."
   ]
  },
  {
   "cell_type": "code",
   "execution_count": 3,
   "id": "34436be2",
   "metadata": {},
   "outputs": [
    {
     "data": {
      "text/html": [
       "<div>\n",
       "<style scoped>\n",
       "    .dataframe tbody tr th:only-of-type {\n",
       "        vertical-align: middle;\n",
       "    }\n",
       "\n",
       "    .dataframe tbody tr th {\n",
       "        vertical-align: top;\n",
       "    }\n",
       "\n",
       "    .dataframe thead th {\n",
       "        text-align: right;\n",
       "    }\n",
       "</style>\n",
       "<table border=\"1\" class=\"dataframe\">\n",
       "  <thead>\n",
       "    <tr style=\"text-align: right;\">\n",
       "      <th></th>\n",
       "      <th>year</th>\n",
       "      <th>passengers</th>\n",
       "    </tr>\n",
       "  </thead>\n",
       "  <tbody>\n",
       "    <tr>\n",
       "      <th>0</th>\n",
       "      <td>1949</td>\n",
       "      <td>1520</td>\n",
       "    </tr>\n",
       "    <tr>\n",
       "      <th>1</th>\n",
       "      <td>1950</td>\n",
       "      <td>1676</td>\n",
       "    </tr>\n",
       "    <tr>\n",
       "      <th>2</th>\n",
       "      <td>1951</td>\n",
       "      <td>2042</td>\n",
       "    </tr>\n",
       "    <tr>\n",
       "      <th>3</th>\n",
       "      <td>1952</td>\n",
       "      <td>2364</td>\n",
       "    </tr>\n",
       "    <tr>\n",
       "      <th>4</th>\n",
       "      <td>1953</td>\n",
       "      <td>2700</td>\n",
       "    </tr>\n",
       "    <tr>\n",
       "      <th>5</th>\n",
       "      <td>1954</td>\n",
       "      <td>2867</td>\n",
       "    </tr>\n",
       "    <tr>\n",
       "      <th>6</th>\n",
       "      <td>1955</td>\n",
       "      <td>3408</td>\n",
       "    </tr>\n",
       "    <tr>\n",
       "      <th>7</th>\n",
       "      <td>1956</td>\n",
       "      <td>3939</td>\n",
       "    </tr>\n",
       "    <tr>\n",
       "      <th>8</th>\n",
       "      <td>1957</td>\n",
       "      <td>4421</td>\n",
       "    </tr>\n",
       "    <tr>\n",
       "      <th>9</th>\n",
       "      <td>1958</td>\n",
       "      <td>4572</td>\n",
       "    </tr>\n",
       "    <tr>\n",
       "      <th>10</th>\n",
       "      <td>1959</td>\n",
       "      <td>5140</td>\n",
       "    </tr>\n",
       "    <tr>\n",
       "      <th>11</th>\n",
       "      <td>1960</td>\n",
       "      <td>5714</td>\n",
       "    </tr>\n",
       "  </tbody>\n",
       "</table>\n",
       "</div>"
      ],
      "text/plain": [
       "    year  passengers\n",
       "0   1949        1520\n",
       "1   1950        1676\n",
       "2   1951        2042\n",
       "3   1952        2364\n",
       "4   1953        2700\n",
       "5   1954        2867\n",
       "6   1955        3408\n",
       "7   1956        3939\n",
       "8   1957        4421\n",
       "9   1958        4572\n",
       "10  1959        5140\n",
       "11  1960        5714"
      ]
     },
     "execution_count": 3,
     "metadata": {},
     "output_type": "execute_result"
    }
   ],
   "source": [
    "# Aggregate by year\n",
    "yearly = flights.groupby(\"year\")[\"passengers\"].sum().reset_index()\n",
    "yearly"
   ]
  },
  {
   "cell_type": "markdown",
   "id": "f030b186",
   "metadata": {},
   "source": [
    "## 📊 Step 3: Plot Time Series\n",
    "Visualize the data to identify visible trends."
   ]
  },
  {
   "cell_type": "code",
   "execution_count": 5,
   "id": "c81ec916",
   "metadata": {},
   "outputs": [
    {
     "data": {
      "image/png": "[encoded data removed]",
      "text/plain": [
       "<Figure size 640x480 with 1 Axes>"
      ]
     },
     "metadata": {},
     "output_type": "display_data"
    }
   ],
   "source": [
    "import matplotlib.pyplot as plt\n",
    "\n",
    "plt.plot(yearly['year'], yearly['passengers'], marker='o')\n",
    "plt.title(\"Annual Airline Passengers\")\n",
    "plt.xlabel(\"Year\")\n",
    "plt.ylabel(\"Total Passengers\")\n",
    "plt.grid(True)\n",
    "plt.show()"
   ]
  },
  {
   "cell_type": "markdown",
   "id": "fcf52d09-cdb3-4bca-ac16-0a3142ae174f",
   "metadata": {},
   "source": [
    "## 🧪 Step 4: Hypothesis for Mann-Kendall Test — Explained for Everyone\n",
    "\n",
    "### What is a Hypothesis Test?\n",
    "\n",
    "A **hypothesis test** is a statistical method used to decide whether the pattern we see in data is **real** or just a result of **random chance**.\n",
    "\n",
    "It starts with two assumptions:\n",
    "- **Null Hypothesis (H₀)**: There's no significant pattern.\n",
    "- **Alternative Hypothesis (H₁)**: There's a real trend or difference.\n",
    "\n",
    "Then, based on the data, we calculate a statistic to decide if we should **reject** the null hypothesis.\n",
    "\n",
    "---\n",
    "\n",
    "### Mann-Kendall Test: What is It?\n",
    "\n",
    "The **Mann-Kendall Test** is a **non-parametric** test (meaning it makes no assumption about the data’s distribution) used to detect **monotonic trends** in a time series.\n",
    "\n",
    "> A **monotonic trend** means the values are consistently increasing or decreasing over time — not necessarily linearly, just consistently.\n",
    "\n",
    "---\n",
    "\n",
    "### Why Use Mann-Kendall?\n",
    "\n",
    "- It's **robust** to missing values and outliers.\n",
    "- It doesn’t require the data to be normally distributed.\n",
    "- Very suitable for **environmental and climate data** like rainfall, temperature, streamflow, etc.\n",
    "\n",
    "---\n",
    "\n",
    "### The Hypotheses in Mann-Kendall Test\n",
    "\n",
    "- **H₀ (Null Hypothesis)**: There is **no trend** in the data — values change randomly.\n",
    "- **H₁ (Alternative Hypothesis)**: There is a **monotonic trend** — either increasing or decreasing.\n",
    "\n",
    "---\n",
    "\n",
    "### The Core Idea Behind Mann-Kendall\n",
    "\n",
    "We calculate a value called **S**, which counts the difference in values for every possible pair of time points.\n",
    "\n",
    "- For every pair `(i, j)` where `j > i`, we check:\n",
    "  - If value at `j` > value at `i`, we add `+1`\n",
    "  - If value at `j` < value at `i`, we add `-1`\n",
    "  - If equal, we add `0`\n",
    "\n",
    "This total sum is our **S statistic**. The higher the positive value of **S**, the stronger the increasing trend. A very negative value means a decreasing trend.\n",
    "\n",
    "---\n",
    "\n",
    "### How We Interpret the Result\n",
    "\n",
    "We can calculate a **Z-score** and **p-value** from this S statistic:\n",
    "- If `p < 0.05` (5% significance level), we **reject the null hypothesis** and conclude a trend **exists**.\n",
    "- If `p >= 0.05`, the trend might be due to **random chance**.\n",
    "\n",
    "---\n",
    "\n",
    "### Example Calculation (Manual)\n",
    "\n",
    "We now implement this logic with a Python function that manually calculates **S** from the dataset. The next code block will do exactly that.\n"
   ]
  },
  {
   "cell_type": "code",
   "execution_count": 8,
   "id": "5e422e87",
   "metadata": {},
   "outputs": [
    {
     "name": "stdout",
     "output_type": "stream",
     "text": [
      "Manual Mann-Kendall Statistic (S): 66\n"
     ]
    }
   ],
   "source": [
    "def mk_test_manual(data):\n",
    "    n = len(data)\n",
    "    s = 0\n",
    "    for k in range(n - 1):\n",
    "        for j in range(k + 1, n):\n",
    "            s += (1 if data[j] > data[k] else -1 if data[j] < data[k] else 0)\n",
    "    return s\n",
    "\n",
    "mk_stat = mk_test_manual(yearly['passengers'].values)\n",
    "print(\"Manual Mann-Kendall Statistic (S):\", mk_stat)"
   ]
  },
  {
   "cell_type": "markdown",
   "id": "940a96d7",
   "metadata": {},
   "source": [
    "## 🧮 Step 5: Use pymannkendall Library\n",
    "Let’s use the `pymannkendall` library to get the full statistical result.\n",
    "\n",
    "Install if needed: `!pip install pymannkendall`"
   ]
  },
  {
   "cell_type": "code",
   "execution_count": 10,
   "id": "7dd1cec0",
   "metadata": {},
   "outputs": [
    {
     "name": "stdout",
     "output_type": "stream",
     "text": [
      "Mann_Kendall_Test(trend='increasing', h=True, p=8.303107353668793e-06, z=4.45721562860432, Tau=1.0, s=66.0, var_s=212.66666666666666, slope=380.3363636363636, intercept=1045.65)\n"
     ]
    }
   ],
   "source": [
    "import pymannkendall as mk\n",
    "\n",
    "result = mk.original_test(yearly['passengers'])\n",
    "print(result)"
   ]
  },
  {
   "cell_type": "markdown",
   "id": "c50af654",
   "metadata": {},
   "source": [
    "## 📦 Step 5: Interpreting Output from `pymannkendall` Library\r\n",
    "\r\n",
    "Now that we’ve manually computed the Mann-Kendall statistic `S`, let’s use the `pymannkendall` library to get a **full statistical interpretation** of the trend in your data.\r\n",
    "\r\n",
    "---\r\n",
    "\r\n",
    "### 🔍 What Does `pymannkendall.original_test()` Return?\r\n",
    "\r\n",
    "The function returns several values. Let’s break them down **in plain language**:\r\n",
    "\r\n",
    "| Output | Meaning |\r\n",
    "|--------|---------|\r\n",
    "| `trend` | This tells you whether the data has a **trend**: `'increasing'`, `'decreasing'`, or `'no trend'`. |\r\n",
    "| `h` | This is like a final decision: <br>`True` means a significant trend was found; <br>`False` means it was not. |\r\n",
    "| `p` | This is the **p-value** — it tells you **how likely it is** that the trend happened by chance. <br>✔ If `p < 0.05`, we usually consider the trend **statistically significant**. |\r\n",
    "| `z` | The **Z-score**, a number that represents how extreme the observed trend is compared to no-trend. Higher absolute values (e.g., > 1.96) suggest stronger evidence of a trend. |\r\n",
    "| `Tau` | This is **Kendall's Tau**, a number between -1 and +1 that measures the **strength and direction** of the trend. <br>✔ `+1` is a perfect increasing trend, `-1` is a perfect decreasing trend. |\r\n",
    "| `s` | The Mann-Kendall **S statistic** — same as the one we computed manually. |\r\n",
    "| `var_s` | The **variance** of `S` under the assumption of no trend. Used for computing Z. |\r\n",
    "| `slope` | An estimate of the **rate of change** (per unit time). For example, +20 passengers per year. |\r\n",
    "| `intercept` | The estimated starting value if the trend were extended back to year 0. |\r\n",
    "\r\n",
    "---\r\n",
    "\r\n",
    "### 🧠 How to Use These Outputs in Interpretation\r\n",
    "\r\n",
    "Here’s how you’d use them in practice:\r\n",
    "\r\n",
    "- ✅ **Is there a trend?**\r\n",
    "  - Check `trend` and `h`\r\n",
    "- ✅ **How confident are we?**\r\n",
    "  - Look at the `p` value (we often consider a trend significant if `p < 0.05`)\r\n",
    "- ✅ **Is the trend strong?**\r\n",
    "  - Look at `Tau` and `z`\r\n",
    "- ✅ **What’s the real-world impact?**\r\n",
    "  - Use `slope` to estimate **how fast** the change is happening\r\n",
    "\r\n",
    "---\r\n",
    "\r\n",
    "### ✅ Example Interpretation:\r\n",
    "\r\n",
    "```python\r\n",
    "Mann_Kendall_Test(trend='increasing', h=True, p=0.01, z=2.45, Tau=0.6, s=45.0, var_s=122.0, slope=21.2, intercept=100.5)\r\n"
   ]
  },
  {
   "cell_type": "markdown",
   "id": "429af298",
   "metadata": {},
   "source": [
    "## 🧠 Bonus: Seasonal Mann-Kendall Test\n",
    "You can use `mk.seasonal_test()` if your data has seasonality (e.g. monthly rainfall over years)."
   ]
  }
 ],
 "metadata": {
  "kernelspec": {
   "display_name": "Python 3 (ipykernel)",
   "language": "python",
   "name": "python3"
  },
  "language_info": {
   "codemirror_mode": {
    "name": "ipython",
    "version": 3
   },
   "file_extension": ".py",
   "mimetype": "text/x-python",
   "name": "python",
   "nbconvert_exporter": "python",
   "pygments_lexer": "ipython3",
   "version": "3.11.7"
  }
 },
 "nbformat": 4,
 "nbformat_minor": 5
}
